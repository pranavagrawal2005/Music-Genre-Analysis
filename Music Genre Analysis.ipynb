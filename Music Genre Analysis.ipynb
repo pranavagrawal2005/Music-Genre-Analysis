{
 "cells": [
  {
   "cell_type": "markdown",
   "id": "8ee38933-26ea-4e16-b175-c4296f7dd1a4",
   "metadata": {},
   "source": [
    "# Submission for KDAG Task-2\n",
    "This is my submission for KDAG Task-2. I have also included some wrong runs in the below which I have either commented for reference.\n"
   ]
  },
  {
   "cell_type": "markdown",
   "id": "1aae02ca-d969-436d-a3ef-938a4fe838f3",
   "metadata": {},
   "source": [
    "#### Step-1 - Importing the basic libraries and reading the dataset"
   ]
  },
  {
   "cell_type": "code",
   "execution_count": 109,
   "id": "fae9d3aa-7776-436f-8ab6-5cd65e288ece",
   "metadata": {},
   "outputs": [],
   "source": [
    "import pandas as pd\n",
    "import numpy as np\n",
    "import matplotlib.pyplot as plt\n",
    "import seaborn as sns\n",
    "import math\n",
    "\n",
    "df = pd.read_csv('TASK2_dataset.csv')"
   ]
  },
  {
   "cell_type": "code",
   "execution_count": 110,
   "id": "4ce58b24-0cb9-47f2-a530-b1d303f720ec",
   "metadata": {},
   "outputs": [
    {
     "data": {
      "text/html": [
       "<div>\n",
       "<style scoped>\n",
       "    .dataframe tbody tr th:only-of-type {\n",
       "        vertical-align: middle;\n",
       "    }\n",
       "\n",
       "    .dataframe tbody tr th {\n",
       "        vertical-align: top;\n",
       "    }\n",
       "\n",
       "    .dataframe thead th {\n",
       "        text-align: right;\n",
       "    }\n",
       "</style>\n",
       "<table border=\"1\" class=\"dataframe\">\n",
       "  <thead>\n",
       "    <tr style=\"text-align: right;\">\n",
       "      <th></th>\n",
       "      <th>song_id</th>\n",
       "      <th>keyword_1</th>\n",
       "      <th>keyword_2</th>\n",
       "      <th>keyword_3</th>\n",
       "      <th>genre</th>\n",
       "    </tr>\n",
       "  </thead>\n",
       "  <tbody>\n",
       "    <tr>\n",
       "      <th>0</th>\n",
       "      <td>74</td>\n",
       "      <td>guitar</td>\n",
       "      <td>happy</td>\n",
       "      <td>distorted</td>\n",
       "      <td>rock</td>\n",
       "    </tr>\n",
       "    <tr>\n",
       "      <th>1</th>\n",
       "      <td>103</td>\n",
       "      <td>brass</td>\n",
       "      <td>energetic</td>\n",
       "      <td>melodic</td>\n",
       "      <td>classical</td>\n",
       "    </tr>\n",
       "    <tr>\n",
       "      <th>2</th>\n",
       "      <td>201</td>\n",
       "      <td>banjo</td>\n",
       "      <td>happy</td>\n",
       "      <td>acoustic</td>\n",
       "      <td>country</td>\n",
       "    </tr>\n",
       "    <tr>\n",
       "      <th>3</th>\n",
       "      <td>194</td>\n",
       "      <td>synth</td>\n",
       "      <td>energetic</td>\n",
       "      <td>heavy</td>\n",
       "      <td>hip-hop</td>\n",
       "    </tr>\n",
       "    <tr>\n",
       "      <th>4</th>\n",
       "      <td>184</td>\n",
       "      <td>synth</td>\n",
       "      <td>energetic</td>\n",
       "      <td>slow</td>\n",
       "      <td>hip-hop</td>\n",
       "    </tr>\n",
       "    <tr>\n",
       "      <th>...</th>\n",
       "      <td>...</td>\n",
       "      <td>...</td>\n",
       "      <td>...</td>\n",
       "      <td>...</td>\n",
       "      <td>...</td>\n",
       "    </tr>\n",
       "    <tr>\n",
       "      <th>142</th>\n",
       "      <td>195</td>\n",
       "      <td>synth</td>\n",
       "      <td>angry</td>\n",
       "      <td>melodic</td>\n",
       "      <td>hip-hop</td>\n",
       "    </tr>\n",
       "    <tr>\n",
       "      <th>143</th>\n",
       "      <td>7</td>\n",
       "      <td>guitar</td>\n",
       "      <td>energetic</td>\n",
       "      <td>fast</td>\n",
       "      <td>pop</td>\n",
       "    </tr>\n",
       "    <tr>\n",
       "      <th>144</th>\n",
       "      <td>14</td>\n",
       "      <td>guitar</td>\n",
       "      <td>happy</td>\n",
       "      <td>rhythmic</td>\n",
       "      <td>pop</td>\n",
       "    </tr>\n",
       "    <tr>\n",
       "      <th>145</th>\n",
       "      <td>36</td>\n",
       "      <td>synth</td>\n",
       "      <td>mellow</td>\n",
       "      <td>danceable</td>\n",
       "      <td>pop</td>\n",
       "    </tr>\n",
       "    <tr>\n",
       "      <th>146</th>\n",
       "      <td>29</td>\n",
       "      <td>synth</td>\n",
       "      <td>emotional</td>\n",
       "      <td>slow</td>\n",
       "      <td>pop</td>\n",
       "    </tr>\n",
       "  </tbody>\n",
       "</table>\n",
       "<p>147 rows × 5 columns</p>\n",
       "</div>"
      ],
      "text/plain": [
       "     song_id keyword_1  keyword_2  keyword_3      genre\n",
       "0         74    guitar      happy  distorted       rock\n",
       "1        103     brass  energetic    melodic  classical\n",
       "2        201     banjo      happy   acoustic    country\n",
       "3        194     synth  energetic      heavy    hip-hop\n",
       "4        184     synth  energetic       slow    hip-hop\n",
       "..       ...       ...        ...        ...        ...\n",
       "142      195     synth      angry    melodic    hip-hop\n",
       "143        7    guitar  energetic       fast        pop\n",
       "144       14    guitar      happy   rhythmic        pop\n",
       "145       36     synth     mellow  danceable        pop\n",
       "146       29     synth  emotional       slow        pop\n",
       "\n",
       "[147 rows x 5 columns]"
      ]
     },
     "execution_count": 110,
     "metadata": {},
     "output_type": "execute_result"
    }
   ],
   "source": [
    "df"
   ]
  },
  {
   "cell_type": "markdown",
   "id": "43785048-f98a-4e95-8024-eee83e9f109d",
   "metadata": {},
   "source": [
    "#### Step-2 - Making a new column called \"Combined Keywords\" in the Dataframe to help in code"
   ]
  },
  {
   "cell_type": "code",
   "execution_count": 111,
   "id": "a49d27d9-eb86-4ffd-8c27-18bad180f1c6",
   "metadata": {},
   "outputs": [],
   "source": [
    "df['combined_keywords']=df['keyword_1']+' '+df['keyword_2']+' '+df['keyword_3']"
   ]
  },
  {
   "cell_type": "code",
   "execution_count": 112,
   "id": "1cece973-4598-4c90-832a-dcc784b5828b",
   "metadata": {},
   "outputs": [
    {
     "data": {
      "text/html": [
       "<div>\n",
       "<style scoped>\n",
       "    .dataframe tbody tr th:only-of-type {\n",
       "        vertical-align: middle;\n",
       "    }\n",
       "\n",
       "    .dataframe tbody tr th {\n",
       "        vertical-align: top;\n",
       "    }\n",
       "\n",
       "    .dataframe thead th {\n",
       "        text-align: right;\n",
       "    }\n",
       "</style>\n",
       "<table border=\"1\" class=\"dataframe\">\n",
       "  <thead>\n",
       "    <tr style=\"text-align: right;\">\n",
       "      <th></th>\n",
       "      <th>song_id</th>\n",
       "      <th>keyword_1</th>\n",
       "      <th>keyword_2</th>\n",
       "      <th>keyword_3</th>\n",
       "      <th>genre</th>\n",
       "      <th>combined_keywords</th>\n",
       "    </tr>\n",
       "  </thead>\n",
       "  <tbody>\n",
       "    <tr>\n",
       "      <th>0</th>\n",
       "      <td>74</td>\n",
       "      <td>guitar</td>\n",
       "      <td>happy</td>\n",
       "      <td>distorted</td>\n",
       "      <td>rock</td>\n",
       "      <td>guitar happy distorted</td>\n",
       "    </tr>\n",
       "    <tr>\n",
       "      <th>1</th>\n",
       "      <td>103</td>\n",
       "      <td>brass</td>\n",
       "      <td>energetic</td>\n",
       "      <td>melodic</td>\n",
       "      <td>classical</td>\n",
       "      <td>brass energetic melodic</td>\n",
       "    </tr>\n",
       "    <tr>\n",
       "      <th>2</th>\n",
       "      <td>201</td>\n",
       "      <td>banjo</td>\n",
       "      <td>happy</td>\n",
       "      <td>acoustic</td>\n",
       "      <td>country</td>\n",
       "      <td>banjo happy acoustic</td>\n",
       "    </tr>\n",
       "    <tr>\n",
       "      <th>3</th>\n",
       "      <td>194</td>\n",
       "      <td>synth</td>\n",
       "      <td>energetic</td>\n",
       "      <td>heavy</td>\n",
       "      <td>hip-hop</td>\n",
       "      <td>synth energetic heavy</td>\n",
       "    </tr>\n",
       "    <tr>\n",
       "      <th>4</th>\n",
       "      <td>184</td>\n",
       "      <td>synth</td>\n",
       "      <td>energetic</td>\n",
       "      <td>slow</td>\n",
       "      <td>hip-hop</td>\n",
       "      <td>synth energetic slow</td>\n",
       "    </tr>\n",
       "    <tr>\n",
       "      <th>...</th>\n",
       "      <td>...</td>\n",
       "      <td>...</td>\n",
       "      <td>...</td>\n",
       "      <td>...</td>\n",
       "      <td>...</td>\n",
       "      <td>...</td>\n",
       "    </tr>\n",
       "    <tr>\n",
       "      <th>142</th>\n",
       "      <td>195</td>\n",
       "      <td>synth</td>\n",
       "      <td>angry</td>\n",
       "      <td>melodic</td>\n",
       "      <td>hip-hop</td>\n",
       "      <td>synth angry melodic</td>\n",
       "    </tr>\n",
       "    <tr>\n",
       "      <th>143</th>\n",
       "      <td>7</td>\n",
       "      <td>guitar</td>\n",
       "      <td>energetic</td>\n",
       "      <td>fast</td>\n",
       "      <td>pop</td>\n",
       "      <td>guitar energetic fast</td>\n",
       "    </tr>\n",
       "    <tr>\n",
       "      <th>144</th>\n",
       "      <td>14</td>\n",
       "      <td>guitar</td>\n",
       "      <td>happy</td>\n",
       "      <td>rhythmic</td>\n",
       "      <td>pop</td>\n",
       "      <td>guitar happy rhythmic</td>\n",
       "    </tr>\n",
       "    <tr>\n",
       "      <th>145</th>\n",
       "      <td>36</td>\n",
       "      <td>synth</td>\n",
       "      <td>mellow</td>\n",
       "      <td>danceable</td>\n",
       "      <td>pop</td>\n",
       "      <td>synth mellow danceable</td>\n",
       "    </tr>\n",
       "    <tr>\n",
       "      <th>146</th>\n",
       "      <td>29</td>\n",
       "      <td>synth</td>\n",
       "      <td>emotional</td>\n",
       "      <td>slow</td>\n",
       "      <td>pop</td>\n",
       "      <td>synth emotional slow</td>\n",
       "    </tr>\n",
       "  </tbody>\n",
       "</table>\n",
       "<p>147 rows × 6 columns</p>\n",
       "</div>"
      ],
      "text/plain": [
       "     song_id keyword_1  keyword_2  keyword_3      genre  \\\n",
       "0         74    guitar      happy  distorted       rock   \n",
       "1        103     brass  energetic    melodic  classical   \n",
       "2        201     banjo      happy   acoustic    country   \n",
       "3        194     synth  energetic      heavy    hip-hop   \n",
       "4        184     synth  energetic       slow    hip-hop   \n",
       "..       ...       ...        ...        ...        ...   \n",
       "142      195     synth      angry    melodic    hip-hop   \n",
       "143        7    guitar  energetic       fast        pop   \n",
       "144       14    guitar      happy   rhythmic        pop   \n",
       "145       36     synth     mellow  danceable        pop   \n",
       "146       29     synth  emotional       slow        pop   \n",
       "\n",
       "           combined_keywords  \n",
       "0     guitar happy distorted  \n",
       "1    brass energetic melodic  \n",
       "2       banjo happy acoustic  \n",
       "3      synth energetic heavy  \n",
       "4       synth energetic slow  \n",
       "..                       ...  \n",
       "142      synth angry melodic  \n",
       "143    guitar energetic fast  \n",
       "144    guitar happy rhythmic  \n",
       "145   synth mellow danceable  \n",
       "146     synth emotional slow  \n",
       "\n",
       "[147 rows x 6 columns]"
      ]
     },
     "execution_count": 112,
     "metadata": {},
     "output_type": "execute_result"
    }
   ],
   "source": [
    "df"
   ]
  },
  {
   "cell_type": "markdown",
   "id": "aa63ec0d-443c-4899-a81a-6569b9c60cef",
   "metadata": {},
   "source": [
    "#### Step-3 - Create a vocabulary based on all keywords"
   ]
  },
  {
   "cell_type": "code",
   "execution_count": 113,
   "id": "6df45dc2-37a8-47c7-bd6d-98feb6cb829f",
   "metadata": {},
   "outputs": [],
   "source": [
    "def create_vocab(df,col_name):\n",
    "    vocabl = set()\n",
    "    for word in df[col_name]:\n",
    "        for x in word.split():\n",
    "            vocabl.add(x)\n",
    "    return sorted(list(vocabl))\n",
    "\n",
    "vocab = create_vocab(df,'combined_keywords')\n",
    "vocab1 = create_vocab(df,'keyword_1')\n",
    "vocab2 = create_vocab(df,'keyword_2')\n",
    "vocab3 = create_vocab(df,'keyword_3')\n",
    "genre_vocab = create_vocab(df,'genre')"
   ]
  },
  {
   "cell_type": "markdown",
   "id": "d4502723-697c-436f-b30f-99d298580585",
   "metadata": {},
   "source": [
    "#### Trial - Playing with vectorization of all the keywords at once"
   ]
  },
  {
   "cell_type": "code",
   "execution_count": 114,
   "id": "9eb2490e-ebf8-47af-a55d-c6f5b9a398ea",
   "metadata": {},
   "outputs": [],
   "source": [
    "# Trial implementation of TF-IDF using ['combined_keywords'] instead of 3 vectors. Took a lot of trials\n",
    "def second_tf_idf(df,vocab):\n",
    "    y = list(vocab)\n",
    "    y.sort()\n",
    "    def tf(df,vocab):\n",
    "        tfidf_vector = np.zeros((df['song_id'].count(),len(vocab)),dtype=float)\n",
    "        for i in range(0,df['song_id'].count()):\n",
    "            doc = df.iloc[i]['combined_keywords']\n",
    "            for word in doc.split(' '):\n",
    "                tfidf_vector[i,y.index(word)]=1\n",
    "        return (tfidf_vector/len(doc.split(' ')))\n",
    "\n",
    "    def idf(vector,vocab):\n",
    "        for j in range(0,len(vocab)):\n",
    "            count=0\n",
    "            for elem in vector[:,j]:\n",
    "                if (elem!=0):\n",
    "                    count+=1\n",
    "            idf_value = math.log(df['song_id'].count()/count)\n",
    "            vector[:,j] = vector[:,j]*idf_value\n",
    "            \n",
    "        return vector\n",
    "    tfidf_vector = tf(df,vocab)\n",
    "    return idf(tfidf_vector,vocab)"
   ]
  },
  {
   "cell_type": "markdown",
   "id": "41d8eaed-0e50-4092-a5f2-a3f398ddcfba",
   "metadata": {},
   "source": [
    "#### Step-4 - Implementing Tf-Idf on each of the 3 keyword columns to make the 3 vectors"
   ]
  },
  {
   "cell_type": "code",
   "execution_count": 115,
   "id": "244b7ad4-9373-4fd6-b6e6-d5527de779e7",
   "metadata": {},
   "outputs": [],
   "source": [
    "def tf_idf(df,vocab,col_name):\n",
    "    N=df['song_id'].count()\n",
    "    word_dict={word:0 for word in vocab}\n",
    "    vector = np.zeros((N,len(vocab)),dtype=float)\n",
    "    for i in range(N):\n",
    "        word = df.iloc[i][col_name]\n",
    "        vector[i,vocab.index(word)]=1\n",
    "        word_dict[word]+=1\n",
    "\n",
    "    for j in range(len(word_dict)):\n",
    "        vector[:,j] = vector[:,j]*math.log(N/(word_dict[vocab[j]]+1))\n",
    "    return vector"
   ]
  },
  {
   "cell_type": "code",
   "execution_count": 116,
   "id": "157808ef-b5b8-4694-a008-99d640c985c4",
   "metadata": {},
   "outputs": [],
   "source": [
    "vector_1 = tf_idf(df,vocab,'keyword_1')\n",
    "vector_2 = tf_idf(df,vocab,'keyword_2')\n",
    "vector_3 = tf_idf(df,vocab,'keyword_3')"
   ]
  },
  {
   "cell_type": "markdown",
   "id": "576be20c-a9c8-4d51-9f47-b734b2aaa64d",
   "metadata": {},
   "source": [
    "#### Step-5 - Implementing PCA on all 3 vectors to convert them into 2-dimensional vectors "
   ]
  },
  {
   "cell_type": "code",
   "execution_count": 117,
   "id": "e792896b-a65e-4d10-8aac-10a0727677ea",
   "metadata": {},
   "outputs": [],
   "source": [
    "def pca(X, n_components=2):\n",
    "    X = (X-X.mean(axis=0))\n",
    "    cov_matrix = np.cov(X.T)\n",
    "    eigenvalues, eigenvectors = np.linalg.eigh(cov_matrix)\n",
    "\n",
    "    ordered = eigenvalues.argsort()[::-1]\n",
    "    eigenvalues = eigenvalues[ordered]\n",
    "    eigenvectors = eigenvectors[:, ordered]\n",
    "    \n",
    "    components = eigenvectors[:, :n_components]\n",
    "    X_transformed = np.dot(X, components)\n",
    "    return X_transformed"
   ]
  },
  {
   "cell_type": "code",
   "execution_count": 118,
   "id": "aa5ab1a0-6bce-4192-aedf-2e88c1cfee10",
   "metadata": {},
   "outputs": [],
   "source": [
    "pca_vector_1 = pca(vector_1)\n",
    "pca_vector_2 = pca(vector_2)\n",
    "pca_vector_3 = pca(vector_3)"
   ]
  },
  {
   "cell_type": "markdown",
   "id": "a01b4bd6-5b0f-48d9-ab42-bf23de832329",
   "metadata": {},
   "source": [
    "#### Step-6 - Combining all 3 vectors into 1 by taking average of all three"
   ]
  },
  {
   "cell_type": "code",
   "execution_count": 119,
   "id": "4961db94-fd70-4fb6-97b7-ce1d2a35dab8",
   "metadata": {},
   "outputs": [],
   "source": [
    "pca_vector = (pca_vector_1+pca_vector_2+pca_vector_3)/3"
   ]
  },
  {
   "cell_type": "markdown",
   "id": "d6ae00e5-673b-4b95-b070-3eb7b21ddced",
   "metadata": {},
   "source": [
    "#### Step-7 - Plotting the scatter graph of the combined pca vector"
   ]
  },
  {
   "cell_type": "code",
   "execution_count": 120,
   "id": "e27aeff9-264f-462d-9c0d-26e5f76cfc9c",
   "metadata": {},
   "outputs": [
    {
     "data": {
      "text/plain": [
       "<matplotlib.collections.PathCollection at 0x1f1c23f6fc0>"
      ]
     },
     "execution_count": 120,
     "metadata": {},
     "output_type": "execute_result"
    },
    {
     "data": {
      "image/png": "[encoded data removed]",
      "text/plain": [
       "<Figure size 640x480 with 1 Axes>"
      ]
     },
     "metadata": {},
     "output_type": "display_data"
    }
   ],
   "source": [
    "plt.scatter(pca_vector[:,0],pca_vector[:,1])"
   ]
  },
  {
   "cell_type": "code",
   "execution_count": 121,
   "id": "fc6a084e-04db-45a1-ab4b-926dc155ec8b",
   "metadata": {},
   "outputs": [
    {
     "data": {
      "text/plain": [
       "(147, 2)"
      ]
     },
     "execution_count": 121,
     "metadata": {},
     "output_type": "execute_result"
    }
   ],
   "source": [
    "np.shape(pca_vector)"
   ]
  },
  {
   "cell_type": "markdown",
   "id": "5f4007ad-a12d-4d56-b6d8-4e21206eb0dc",
   "metadata": {},
   "source": [
    "#### Step-8 - Using K-means to cluster data"
   ]
  },
  {
   "cell_type": "code",
   "execution_count": 122,
   "id": "adb2e0ca-d259-4f29-b281-2e28c7d45247",
   "metadata": {},
   "outputs": [],
   "source": [
    "class Kmeans:\n",
    "    def __init__(self, K):\n",
    "        self.K = K\n",
    "        \n",
    "    def initialize_centroids(self, X):\n",
    "        randomised = np.random.permutation(X.shape[0]) \n",
    "        self.centroids = X[randomised[:self.K]]\n",
    "        \n",
    "    def assign_points_centroids(self, X):\n",
    "        X = np.expand_dims(X, axis=1)\n",
    "        distance = np.linalg.norm((X - self.centroids), axis=-1)\n",
    "        points = np.argmin(distance, axis=1)\n",
    "        return points\n",
    "    \n",
    "    def compute_mean(self, X, points):\n",
    "        centroids = np.zeros((self.K, X.shape[1]))\n",
    "        for i in range(self.K):\n",
    "            centroid_mean = X[points == i].mean(axis=0)\n",
    "            centroids[i] = centroid_mean\n",
    "        return centroids\n",
    "        \n",
    "    def fit(self, X, iterations=100):      \n",
    "        self.initialize_centroids(X) # initializing centroids\n",
    "        for i in range(iterations):\n",
    "            points = self.assign_points_centroids(X) # assigning all points to their nearest centroid\n",
    "            self.centroids = self.compute_mean(X, points) # compute new centroids based on the mean of their points\n",
    "        return self.centroids, points\n",
    "\n",
    "    def calculate_wcss(self, X, points):\n",
    "        wcss = 0\n",
    "        for i in range(self.K):\n",
    "            cluster_points = X[points == i]\n",
    "            if len(cluster_points) > 0:\n",
    "                centroid = self.centroids[i]\n",
    "                wcss += np.sum(np.square(np.linalg.norm(cluster_points - centroid, axis=1)))\n",
    "        return wcss"
   ]
  },
  {
   "cell_type": "markdown",
   "id": "310aef9f-ae52-4c14-b9e1-05e4889ad5b0",
   "metadata": {},
   "source": [
    "#### Step-9 - Using Elbow Method to determine the number of clusters(K)"
   ]
  },
  {
   "cell_type": "code",
   "execution_count": 135,
   "id": "bea40bcb-aab2-45e6-b41e-46fe17f7bb6c",
   "metadata": {},
   "outputs": [
    {
     "data": {
      "image/png": "[encoded data removed]",
      "text/plain": [
       "<Figure size 640x480 with 1 Axes>"
      ]
     },
     "metadata": {},
     "output_type": "display_data"
    }
   ],
   "source": [
    "def elbow_method(X, k_range, iterations=100):\n",
    "    wcss_values = []\n",
    "    \n",
    "    for k in k_range:\n",
    "        kmeans = Kmeans(k)\n",
    "        centroids, points = kmeans.fit(X, iterations)\n",
    "        wcss = kmeans.calculate_wcss(X, points)\n",
    "        wcss_values.append(wcss)\n",
    "\n",
    "    plt.plot(k_range, wcss_values, 'bo-')\n",
    "    plt.xlabel('Number of Clusters (K)')\n",
    "    plt.ylabel('WCSS Value')\n",
    "    plt.title('Elbow Method for Optimal K')\n",
    "    plt.grid(True)\n",
    "    plt.show()\n",
    "    \n",
    "    return wcss_values\n",
    "\n",
    "wcss_values = elbow_method(pca_vector, range(2,7))"
   ]
  },
  {
   "cell_type": "markdown",
   "id": "71078c34-c745-46f7-a814-6245d692df46",
   "metadata": {},
   "source": [
    "#### Step-10 - Plotting the final clustred results \n",
    "##### Also, as the initial value of k is random, the plot will change on each run"
   ]
  },
  {
   "cell_type": "code",
   "execution_count": 136,
   "id": "7744a050-d071-432f-81e6-cedbd8362f77",
   "metadata": {
    "scrolled": true
   },
   "outputs": [
    {
     "data": {
      "image/png": "[encoded data removed]",
      "text/plain": [
       "<Figure size 640x480 with 1 Axes>"
      ]
     },
     "metadata": {},
     "output_type": "display_data"
    }
   ],
   "source": [
    "kmeans = Kmeans(5)\n",
    "centroids,points = kmeans.fit(pca_vector,1000)\n",
    "cmp = ['r','b','g','y','c','orange','purple','brown','pink','gray']\n",
    "for i in range(len(points)):\n",
    "    plt.scatter(pca_vector[i][0],pca_vector[i][1],c=cmp[points[i]],alpha=0.6)\n",
    "for centroid in centroids:\n",
    "    plt.scatter(centroid[0],centroid[1],c='black',marker='x',s=200,linewidths=3,label='Centroids')\n",
    "\n",
    "plt.title('K-means Clustering Results')\n",
    "plt.xlabel('First Principal Component')\n",
    "plt.ylabel('Second Principal Component')\n",
    "plt.show()"
   ]
  },
  {
   "cell_type": "markdown",
   "id": "27e5e55f-27c0-4816-9f6f-4fe0b3cb1166",
   "metadata": {},
   "source": [
    "## Analysis"
   ]
  },
  {
   "cell_type": "markdown",
   "id": "2576cd9d-d2a3-4e48-a949-a8074605aa35",
   "metadata": {},
   "source": [
    "#### Percentage Distribution of ground truth genres in each cluster"
   ]
  },
  {
   "cell_type": "code",
   "execution_count": 138,
   "id": "3a2e62d9-5b3e-456f-baa8-eabee04502fc",
   "metadata": {},
   "outputs": [
    {
     "data": {
      "text/html": [
       "<div>\n",
       "<style scoped>\n",
       "    .dataframe tbody tr th:only-of-type {\n",
       "        vertical-align: middle;\n",
       "    }\n",
       "\n",
       "    .dataframe tbody tr th {\n",
       "        vertical-align: top;\n",
       "    }\n",
       "\n",
       "    .dataframe thead th {\n",
       "        text-align: right;\n",
       "    }\n",
       "</style>\n",
       "<table border=\"1\" class=\"dataframe\">\n",
       "  <thead>\n",
       "    <tr style=\"text-align: right;\">\n",
       "      <th></th>\n",
       "      <th>rock</th>\n",
       "      <th>classical</th>\n",
       "      <th>country</th>\n",
       "      <th>hip-hop</th>\n",
       "      <th>pop</th>\n",
       "    </tr>\n",
       "  </thead>\n",
       "  <tbody>\n",
       "    <tr>\n",
       "      <th>0</th>\n",
       "      <td>18.750000</td>\n",
       "      <td>18.750000</td>\n",
       "      <td>25.000000</td>\n",
       "      <td>25.000000</td>\n",
       "      <td>12.500000</td>\n",
       "    </tr>\n",
       "    <tr>\n",
       "      <th>1</th>\n",
       "      <td>22.058824</td>\n",
       "      <td>16.176471</td>\n",
       "      <td>17.647059</td>\n",
       "      <td>17.647059</td>\n",
       "      <td>26.470588</td>\n",
       "    </tr>\n",
       "    <tr>\n",
       "      <th>2</th>\n",
       "      <td>30.000000</td>\n",
       "      <td>5.000000</td>\n",
       "      <td>20.000000</td>\n",
       "      <td>25.000000</td>\n",
       "      <td>20.000000</td>\n",
       "    </tr>\n",
       "    <tr>\n",
       "      <th>3</th>\n",
       "      <td>14.285714</td>\n",
       "      <td>57.142857</td>\n",
       "      <td>14.285714</td>\n",
       "      <td>14.285714</td>\n",
       "      <td>0.000000</td>\n",
       "    </tr>\n",
       "    <tr>\n",
       "      <th>4</th>\n",
       "      <td>13.888889</td>\n",
       "      <td>22.222222</td>\n",
       "      <td>22.222222</td>\n",
       "      <td>22.222222</td>\n",
       "      <td>19.444444</td>\n",
       "    </tr>\n",
       "  </tbody>\n",
       "</table>\n",
       "</div>"
      ],
      "text/plain": [
       "        rock  classical    country    hip-hop        pop\n",
       "0  18.750000  18.750000  25.000000  25.000000  12.500000\n",
       "1  22.058824  16.176471  17.647059  17.647059  26.470588\n",
       "2  30.000000   5.000000  20.000000  25.000000  20.000000\n",
       "3  14.285714  57.142857  14.285714  14.285714   0.000000\n",
       "4  13.888889  22.222222  22.222222  22.222222  19.444444"
      ]
     },
     "execution_count": 138,
     "metadata": {},
     "output_type": "execute_result"
    }
   ],
   "source": [
    "df['cluster'] = points\n",
    "unique_clusters = np.unique(points)\n",
    "unique_genres = df['genre'].unique()\n",
    "\n",
    "cluster_genre_distribution = pd.DataFrame(index=unique_clusters, columns=unique_genres, dtype=float)\n",
    "for cluster in unique_clusters:\n",
    "    cluster_subset = df[df['cluster'] == cluster]['genre'].value_counts(normalize=True) * 100\n",
    "    cluster_genre_distribution.loc[cluster] = cluster_subset\n",
    "\n",
    "cluster_genre_distribution = cluster_genre_distribution.fillna(0)\n",
    "cluster_genre_distribution"
   ]
  },
  {
   "cell_type": "markdown",
   "id": "5cc4f388-5b86-4a5f-b0bd-6e77c9484166",
   "metadata": {},
   "source": [
    "#### Calculation of Silhouette Score"
   ]
  },
  {
   "cell_type": "code",
   "execution_count": 139,
   "id": "45f43d13-0a1d-4c26-97bc-f5ed8963b88f",
   "metadata": {},
   "outputs": [
    {
     "data": {
      "text/plain": [
       "0.5034145682465773"
      ]
     },
     "execution_count": 139,
     "metadata": {},
     "output_type": "execute_result"
    }
   ],
   "source": [
    "def silhouette_score(x, points, centroids):\n",
    "    n = x.shape[0]\n",
    "    silhouette_values = np.zeros(n)\n",
    "\n",
    "    for i in range(n):\n",
    "        cluster = points[i]\n",
    "        same = x[points == cluster]\n",
    "        other_c = [x[points == j] for j in range(len(centroids)) if j != cluster]\n",
    "        # Mean intra-cluster\n",
    "        a = np.mean(np.linalg.norm(same - x[i], axis=1))\n",
    "        # Mean nearest-cluster\n",
    "        b = np.min([np.mean(np.linalg.norm(other - x[i], axis=1)) for other in other_c if len(other) > 0])\n",
    "\n",
    "        silhouette_values[i] = (b - a) / max(a, b)\n",
    "\n",
    "    return np.mean(silhouette_values)\n",
    "\n",
    "\n",
    "silhouette_score(pca_vector, points, centroids)"
   ]
  },
  {
   "cell_type": "markdown",
   "id": "d61bed3f-3218-42c2-ae77-2ff50505ab9c",
   "metadata": {},
   "source": [
    "#### Genre Classification"
   ]
  },
  {
   "cell_type": "markdown",
   "id": "b72b6db9-36a1-4700-96a3-893f1b5c73bb",
   "metadata": {},
   "source": [
    "For This Part, I thought of appending the new keywords into the dataframe and then doing the whole tf-idf, pca and clustering again to get accurate results. But I couldn't do that. I wasnt successful in doing so."
   ]
  },
  {
   "cell_type": "markdown",
   "id": "afaefaa7-d9f1-4e62-be71-7bd6c7fe3cca",
   "metadata": {},
   "source": [
    "# END OF FILE"
   ]
  },
  {
   "cell_type": "code",
   "execution_count": null,
   "id": "8de2dba4-19ca-4952-ad94-ca048853aa8d",
   "metadata": {},
   "outputs": [],
   "source": []
  }
 ],
 "metadata": {
  "kernelspec": {
   "display_name": "Python 3 (ipykernel)",
   "language": "python",
   "name": "python3"
  },
  "language_info": {
   "codemirror_mode": {
    "name": "ipython",
    "version": 3
   },
   "file_extension": ".py",
   "mimetype": "text/x-python",
   "name": "python",
   "nbconvert_exporter": "python",
   "pygments_lexer": "ipython3",
   "version": "3.12.7"
  }
 },
 "nbformat": 4,
 "nbformat_minor": 5
}
